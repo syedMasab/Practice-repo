{
 "cells": [
  {
   "cell_type": "code",
   "execution_count": null,
   "id": "05949504",
   "metadata": {},
   "outputs": [],
   "source": []
  },
  {
   "cell_type": "code",
   "execution_count": null,
   "id": "ed6d4f4d",
   "metadata": {},
   "outputs": [],
   "source": []
  },
  {
   "cell_type": "markdown",
   "id": "95753ee8",
   "metadata": {},
   "source": [
    "# IF else elif statements"
   ]
  },
  {
   "cell_type": "code",
   "execution_count": null,
   "id": "e9aeeaf5",
   "metadata": {},
   "outputs": [],
   "source": [
    "subj1 = float(input(\"enter marks of subject1 : \"))"
   ]
  },
  {
   "cell_type": "code",
   "execution_count": null,
   "id": "d791b93e",
   "metadata": {},
   "outputs": [],
   "source": [
    "subj2 = float(input(\"enter marks of subject2 : \"))"
   ]
  },
  {
   "cell_type": "code",
   "execution_count": null,
   "id": "3a4261b0",
   "metadata": {},
   "outputs": [],
   "source": [
    "subj3 = float(input(\"enter marks of subject3 : \"))"
   ]
  },
  {
   "cell_type": "code",
   "execution_count": null,
   "id": "37335c61",
   "metadata": {},
   "outputs": [],
   "source": [
    "subj4 = float(input(\"enter marks of subject4 : \"))"
   ]
  },
  {
   "cell_type": "code",
   "execution_count": null,
   "id": "67f16366",
   "metadata": {},
   "outputs": [],
   "source": [
    "subj5 = float(input(\"enter marks of subject5 : \"))"
   ]
  },
  {
   "cell_type": "code",
   "execution_count": 24,
   "id": "39fc4f71",
   "metadata": {},
   "outputs": [
    {
     "name": "stdout",
     "output_type": "stream",
     "text": [
      "enter marks of subject1 : 89\n",
      "enter marks of subject2 : 00\n",
      "enter marks of subject3 : 99\n",
      "enter marks of subject4 : 78\n",
      "\n",
      "\n",
      "                                                  REPORT CARD\n",
      "\n",
      "                               ________________________________________________\n",
      "                               | SUBJECT            MARKS                     |\n",
      "                               |______________________________________________|\n",
      "                               | MATH               89.0                   |\n",
      "                               |______________________________________________|\n",
      "                               | PHYS               0.0                   |\n",
      "                               |______________________________________________|\n",
      "                               | CHEM               99.0                   |\n",
      "                               |______________________________________________|\n",
      "                               | ENGL               78.0                   |\n",
      "                               |______________________________________________|\n",
      "                                      Total marks = 266.0\n",
      "\n",
      "\n",
      "                                      \"YOUR GOT 'D' grade \"\n",
      "              ________________________________________________________________________________________\n",
      "\n",
      "\n",
      "\n",
      "\n",
      "\n"
     ]
    }
   ],
   "source": [
    "subj1 = float(input(\"enter marks of subject1 : \"))\n",
    "subj2 = float(input(\"enter marks of subject2 : \"))\n",
    "subj3 = float(input(\"enter marks of subject3 : \"))\n",
    "subj4 = float(input(\"enter marks of subject4 : \"))\n",
    "\n",
    "total_marks = 400\n",
    "obt_marks   = subj1 + subj2 + subj3 + subj4 \n",
    "percentage  = (obt_marks/total_marks)*100\n",
    "grade = None \n",
    "if (percentage>= 90) :\n",
    "    grade = \"A\"\n",
    "elif( (percentage < 90) and (percentage >= 80 )):\n",
    "    grade = \"B\"\n",
    "elif ((percentage < 80) and (percentage >= 70)) :\n",
    "    grade = \"C\"\n",
    "elif ((percentage < 70) and  (percentage >= 60)) :\n",
    "    grade = \"D\"\n",
    "elif (percentage < 60):\n",
    "    grade = \"F\"\n",
    "report_card = f\"\"\"\n",
    "\n",
    "                                                  REPORT CARD\n",
    "\n",
    "                               ________________________________________________\n",
    "                               | SUBJECTS           MARKS                     |\n",
    "                               |______________________________________________|\n",
    "                               | MATH               {subj1}                   |\n",
    "                               |______________________________________________|\n",
    "                               | PHYS               {subj2}                   |\n",
    "                               |______________________________________________|\n",
    "                               | CHEM               {subj3}                   |\n",
    "                               |______________________________________________|\n",
    "                               | ENG                {subj4}                   |\n",
    "                               |______________________________________________|\n",
    "                                      Total marks = {obt_marks}\n",
    "\n",
    "\n",
    "                                      \"YOUR GOT '{grade}' grade \"\n",
    "              ________________________________________________________________________________________\n",
    "\n",
    "\n",
    "\n",
    "\n",
    "\"\"\"    \n",
    "print(report_card) \n",
    "    \n",
    "    \n",
    "    \n",
    "    "
   ]
  },
  {
   "cell_type": "code",
   "execution_count": 23,
   "id": "5ae4ba17",
   "metadata": {},
   "outputs": [
    {
     "name": "stdout",
     "output_type": "stream",
     "text": [
      "enter marks of subject1 : 45\n",
      "enter marks of subject2 : 76\n",
      "enter marks of subject3 : 78\n",
      "enter marks of subject4 : 90\n",
      "None\n",
      "83.25\n"
     ]
    }
   ],
   "source": [
    "subj1 = float(input(\"enter marks of subject1 : \"))\n",
    "subj2 = float(input(\"enter marks of subject2 : \"))\n",
    "subj3 = float(input(\"enter marks of subject3 : \"))\n",
    "subj4 = float(input(\"enter marks of subject4 : \"))\n",
    "\n",
    "total_marks = 400\n",
    "obt_marks   = subj1 + subj2 + subj3 + subj4 + subj5\n",
    "percentage  = (obt_marks/total_marks)*100\n",
    "grade = None \n",
    "if (percentage    <=50):\n",
    "    grade = \"F\"\n",
    "elif( percentage < 60):\n",
    "    grade = \"D\"\n",
    "elif (percentage < 70):\n",
    "    grade = \"C\"\n",
    "elif (percentage < 80):\n",
    "    grade = \"B\"\n",
    "elif (percentage >= 90):\n",
    "    grade = \"A\"\n",
    "print (grade)\n",
    "print(percentage)"
   ]
  },
  {
   "cell_type": "markdown",
   "id": "9c13be7f",
   "metadata": {},
   "source": [
    "# NESTED iF'S"
   ]
  },
  {
   "cell_type": "code",
   "execution_count": 30,
   "id": "84c204b0",
   "metadata": {},
   "outputs": [
    {
     "name": "stdout",
     "output_type": "stream",
     "text": [
      "Enter your user name : uzaifa@44\n",
      "Enter your password : 44\n",
      "login approved\n",
      "enter marks of subject1 : 34\n",
      "enter marks of subject2 : 43\n",
      "enter marks of subject3 : 34\n",
      "enter marks of subject4 : 43\n",
      "\n",
      "\n",
      "                                                  REPORT CARD\n",
      "\n",
      "                               ________________________________________________\n",
      "                               | SUBJECTS           MARKS                     |\n",
      "                               |______________________________________________|\n",
      "                               | MATH               34.0                    |\n",
      "                               |______________________________________________|\n",
      "                               | PHYS               43.0                    |\n",
      "                               |______________________________________________|\n",
      "                               | CHEM               34.0                    |\n",
      "                               |______________________________________________|\n",
      "                               | ENG                43.0                    |\n",
      "                               |______________________________________________|\n",
      "                                      Total marks = 154.0\n",
      "\n",
      "\n",
      "                                                       \"YOUR GOT 'F' grade \"\n",
      "                             ________________________________________________________________________________________\n",
      "\n",
      "\n",
      "\n",
      "\n",
      "           \n"
     ]
    }
   ],
   "source": [
    "i_d = \"uzaifa@44\"\n",
    "pass_word = \"44\"\n",
    "\n",
    "user_name = input(\"Enter your user name : \")\n",
    "\n",
    "if (user_name == i_d):\n",
    "    password  = input(\"Enter your password : \")\n",
    "    if (password == pass_word):\n",
    "        print (\"login approved\")\n",
    "        sub1 = float(input(\"enter marks of subject1 : \"))\n",
    "        sub2 = float(input(\"enter marks of subject2 : \"))\n",
    "        sub3 = float(input(\"enter marks of subject3 : \"))\n",
    "        sub4 = float(input(\"enter marks of subject4 : \"))\n",
    "\n",
    "        total_marks = 400\n",
    "        obt_marks   = sub1 + sub2 + sub3 + sub4 \n",
    "        percentage  = (obt_marks/total_marks)*100\n",
    "        grade = None \n",
    "        if (percentage>= 90) :\n",
    "            grade = \"A\"\n",
    "        elif( (percentage < 90) and (percentage >= 80 )):\n",
    "            grade = \"B\"\n",
    "        elif ((percentage < 80) and (percentage >= 70)) :\n",
    "            grade = \"C\"\n",
    "        elif ((percentage < 70) and  (percentage >= 60)) :\n",
    "            grade = \"D\"\n",
    "        elif (percentage < 60):\n",
    "            grade = \"F\"\n",
    "        report_card = f\"\"\"\n",
    "\n",
    "                                                  REPORT CARD\n",
    "\n",
    "                               ________________________________________________\n",
    "                               | SUBJECTS           MARKS                     |\n",
    "                               |______________________________________________|\n",
    "                               | MATH               {sub1}                    |\n",
    "                               |______________________________________________|\n",
    "                               | PHYS               {sub2}                    |\n",
    "                               |______________________________________________|\n",
    "                               | CHEM               {sub3}                    |\n",
    "                               |______________________________________________|\n",
    "                               | ENG                {sub4}                    |\n",
    "                               |______________________________________________|\n",
    "                                      Total marks = {obt_marks}\n",
    "\n",
    "\n",
    "                                                       \"YOUR GOT '{grade}' grade \"\n",
    "                             ________________________________________________________________________________________\n",
    "\n",
    "\n",
    "\n",
    "\n",
    "           \"\"\"    \n",
    "        print(report_card) \n",
    "        \n",
    "    \n",
    "    else:\n",
    "        print(\"invalid password\")\n",
    "else:\n",
    "    print(\"Invalid username\")"
   ]
  },
  {
   "cell_type": "code",
   "execution_count": null,
   "id": "41084d09",
   "metadata": {},
   "outputs": [],
   "source": []
  },
  {
   "cell_type": "code",
   "execution_count": null,
   "id": "ff3ac615",
   "metadata": {},
   "outputs": [],
   "source": []
  },
  {
   "cell_type": "code",
   "execution_count": null,
   "id": "804ca1e2",
   "metadata": {},
   "outputs": [],
   "source": []
  }
 ],
 "metadata": {
  "kernelspec": {
   "display_name": "Python 3 (ipykernel)",
   "language": "python",
   "name": "python3"
  },
  "language_info": {
   "codemirror_mode": {
    "name": "ipython",
    "version": 3
   },
   "file_extension": ".py",
   "mimetype": "text/x-python",
   "name": "python",
   "nbconvert_exporter": "python",
   "pygments_lexer": "ipython3",
   "version": "3.9.7"
  }
 },
 "nbformat": 4,
 "nbformat_minor": 5
}
