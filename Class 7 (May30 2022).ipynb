{
 "cells": [
  {
   "cell_type": "markdown",
   "id": "d8c6334c",
   "metadata": {},
   "source": [
    "# Python Data Structures\n",
    "- Lists\n",
    "- Dictionaries \n",
    "- Tuple\n",
    "- set\n"
   ]
  },
  {
   "cell_type": "markdown",
   "id": "92e0db32",
   "metadata": {},
   "source": [
    "# LIST"
   ]
  },
  {
   "cell_type": "code",
   "execution_count": 3,
   "id": "b6801be3",
   "metadata": {},
   "outputs": [],
   "source": [
    "#define ist\n",
    "courses =[]\n",
    "#empty List"
   ]
  },
  {
   "cell_type": "code",
   "execution_count": 4,
   "id": "27cd847b",
   "metadata": {},
   "outputs": [
    {
     "name": "stdout",
     "output_type": "stream",
     "text": [
      "<class 'list'>\n"
     ]
    }
   ],
   "source": [
    "print (type(courses))"
   ]
  },
  {
   "cell_type": "code",
   "execution_count": 5,
   "id": "fd81d9d3",
   "metadata": {},
   "outputs": [
    {
     "data": {
      "text/plain": [
       "['Asad', 'Mahad', 'Ahmed', 'Ali']"
      ]
     },
     "execution_count": 5,
     "metadata": {},
     "output_type": "execute_result"
    }
   ],
   "source": [
    "students = [\"Asad\",\"Mahad\",\"Ahmed\", \"Ali\"]\n",
    "#index       0        1     2        3\n",
    "# -ve inex   -4       -3    -2      -1\n",
    "students"
   ]
  },
  {
   "cell_type": "code",
   "execution_count": 13,
   "id": "8d1e746e",
   "metadata": {},
   "outputs": [
    {
     "data": {
      "text/plain": [
       "('Ahmed', 'Ahmed')"
      ]
     },
     "execution_count": 13,
     "metadata": {},
     "output_type": "execute_result"
    }
   ],
   "source": [
    "students[2], students[-2]"
   ]
  },
  {
   "cell_type": "code",
   "execution_count": 14,
   "id": "72a1dae6",
   "metadata": {},
   "outputs": [
    {
     "data": {
      "text/plain": [
       "('Asad', 'Asad')"
      ]
     },
     "execution_count": 14,
     "metadata": {},
     "output_type": "execute_result"
    }
   ],
   "source": [
    "students [0], students [-4]"
   ]
  },
  {
   "cell_type": "markdown",
   "id": "245d3450",
   "metadata": {},
   "source": [
    "- CRUD\n",
    "creat , Retieve, Update, Delete"
   ]
  },
  {
   "cell_type": "code",
   "execution_count": 15,
   "id": "ea47356a",
   "metadata": {},
   "outputs": [
    {
     "data": {
      "text/plain": [
       "['Asad', 'Masab', 'Ahmed', 'Ali']"
      ]
     },
     "execution_count": 15,
     "metadata": {},
     "output_type": "execute_result"
    }
   ],
   "source": [
    "students[1]= \"Masab\"\n",
    "students"
   ]
  },
  {
   "cell_type": "code",
   "execution_count": 16,
   "id": "6c9dd831",
   "metadata": {},
   "outputs": [
    {
     "data": {
      "text/plain": [
       "['Masab', 'Ahmed', 'Ali']"
      ]
     },
     "execution_count": 16,
     "metadata": {},
     "output_type": "execute_result"
    }
   ],
   "source": [
    "return students[0] \n",
    "students"
   ]
  },
  {
   "cell_type": "code",
   "execution_count": 18,
   "id": "368b28d6",
   "metadata": {},
   "outputs": [
    {
     "data": {
      "text/plain": [
       "['KHI', 'LHE', 'ISL']"
      ]
     },
     "execution_count": 18,
     "metadata": {},
     "output_type": "execute_result"
    }
   ],
   "source": [
    "city = [\"KHI\", \"LHE\", \"ISL\"]\n",
    "city"
   ]
  },
  {
   "cell_type": "code",
   "execution_count": 19,
   "id": "44e69945",
   "metadata": {},
   "outputs": [
    {
     "data": {
      "text/plain": [
       "['KHI', 'LHE', 'ISL']"
      ]
     },
     "execution_count": 19,
     "metadata": {},
     "output_type": "execute_result"
    }
   ],
   "source": [
    "city [2]\n",
    "city"
   ]
  },
  {
   "cell_type": "code",
   "execution_count": 20,
   "id": "7f142a2e",
   "metadata": {},
   "outputs": [
    {
     "data": {
      "text/plain": [
       "['KHI', 'MUX', 'ISL']"
      ]
     },
     "execution_count": 20,
     "metadata": {},
     "output_type": "execute_result"
    }
   ],
   "source": [
    "city[1]= \"MUX\"\n",
    "city"
   ]
  },
  {
   "cell_type": "code",
   "execution_count": 21,
   "id": "1ed7b361",
   "metadata": {},
   "outputs": [
    {
     "data": {
      "text/plain": [
       "['KHI', 'ISL']"
      ]
     },
     "execution_count": 21,
     "metadata": {},
     "output_type": "execute_result"
    }
   ],
   "source": [
    "del city[1]\n",
    "city"
   ]
  },
  {
   "cell_type": "code",
   "execution_count": 22,
   "id": "639c4ee7",
   "metadata": {},
   "outputs": [
    {
     "data": {
      "text/plain": [
       "[['Masab', 'Ahmed', 'Ali'], 122, False, 3.54]"
      ]
     },
     "execution_count": 22,
     "metadata": {},
     "output_type": "execute_result"
    }
   ],
   "source": [
    "misclist = [students, 122 , False , 3.54]\n",
    "misclist"
   ]
  },
  {
   "cell_type": "code",
   "execution_count": 23,
   "id": "02bd8cdf",
   "metadata": {},
   "outputs": [
    {
     "data": {
      "text/plain": [
       "[]"
      ]
     },
     "execution_count": 23,
     "metadata": {},
     "output_type": "execute_result"
    }
   ],
   "source": [
    "courses"
   ]
  },
  {
   "cell_type": "code",
   "execution_count": 24,
   "id": "5a89ee54",
   "metadata": {},
   "outputs": [
    {
     "data": {
      "text/plain": [
       "['Python']"
      ]
     },
     "execution_count": 24,
     "metadata": {},
     "output_type": "execute_result"
    }
   ],
   "source": [
    "#to Add new value in Existing LIST\n",
    "\n",
    "courses.append(\"Python\")\n",
    "courses"
   ]
  },
  {
   "cell_type": "code",
   "execution_count": 25,
   "id": "576c8a95",
   "metadata": {},
   "outputs": [
    {
     "data": {
      "text/plain": [
       "['Python', 'DataScience']"
      ]
     },
     "execution_count": 25,
     "metadata": {},
     "output_type": "execute_result"
    }
   ],
   "source": [
    "courses.append(\"DataScience\")\n",
    "courses"
   ]
  },
  {
   "cell_type": "code",
   "execution_count": 26,
   "id": "ee5a698f",
   "metadata": {},
   "outputs": [
    {
     "data": {
      "text/plain": [
       "['Python', 'DataScience', 'M learning']"
      ]
     },
     "execution_count": 26,
     "metadata": {},
     "output_type": "execute_result"
    }
   ],
   "source": [
    "courses.append(\"M learning\")\n",
    "courses"
   ]
  },
  {
   "cell_type": "code",
   "execution_count": 27,
   "id": "dcb1b9af",
   "metadata": {},
   "outputs": [
    {
     "data": {
      "text/plain": [
       "['Python', 'DataScience', 'AI', 'M learning']"
      ]
     },
     "execution_count": 27,
     "metadata": {},
     "output_type": "execute_result"
    }
   ],
   "source": [
    "courses.insert(2 , \"AI\")\n",
    "courses"
   ]
  },
  {
   "cell_type": "code",
   "execution_count": 29,
   "id": "c547bc16",
   "metadata": {},
   "outputs": [],
   "source": [
    "popped_value = courses.pop()"
   ]
  },
  {
   "cell_type": "code",
   "execution_count": 30,
   "id": "f2958573",
   "metadata": {},
   "outputs": [
    {
     "data": {
      "text/plain": [
       "'AI'"
      ]
     },
     "execution_count": 30,
     "metadata": {},
     "output_type": "execute_result"
    }
   ],
   "source": [
    "popped_value"
   ]
  },
  {
   "cell_type": "code",
   "execution_count": 31,
   "id": "58a62ad8",
   "metadata": {},
   "outputs": [
    {
     "data": {
      "text/plain": [
       "['KHI', 'ISL']"
      ]
     },
     "execution_count": 31,
     "metadata": {},
     "output_type": "execute_result"
    }
   ],
   "source": [
    "city "
   ]
  },
  {
   "cell_type": "code",
   "execution_count": 33,
   "id": "ee8b81e3",
   "metadata": {},
   "outputs": [],
   "source": [
    "city.insert(0 ,\"LHE\")"
   ]
  },
  {
   "cell_type": "code",
   "execution_count": 34,
   "id": "6dcfd617",
   "metadata": {},
   "outputs": [
    {
     "data": {
      "text/plain": [
       "['LHE', 'KHI', 'ISL']"
      ]
     },
     "execution_count": 34,
     "metadata": {},
     "output_type": "execute_result"
    }
   ],
   "source": [
    "city"
   ]
  },
  {
   "cell_type": "code",
   "execution_count": 35,
   "id": "0fb434be",
   "metadata": {},
   "outputs": [
    {
     "data": {
      "text/plain": [
       "['MUX', 'LHE', 'KHI', 'ISL']"
      ]
     },
     "execution_count": 35,
     "metadata": {},
     "output_type": "execute_result"
    }
   ],
   "source": [
    "city.insert(0, \"MUX\")\n",
    "city"
   ]
  },
  {
   "cell_type": "code",
   "execution_count": 38,
   "id": "b4f29275",
   "metadata": {},
   "outputs": [],
   "source": [
    "city.insert(5,\"FSD\")"
   ]
  },
  {
   "cell_type": "code",
   "execution_count": 39,
   "id": "597c036f",
   "metadata": {},
   "outputs": [
    {
     "data": {
      "text/plain": [
       "['MUX', 'LHE', 'KHI', 'ISL', 'FSD', 'FSD']"
      ]
     },
     "execution_count": 39,
     "metadata": {},
     "output_type": "execute_result"
    }
   ],
   "source": [
    "city"
   ]
  },
  {
   "cell_type": "code",
   "execution_count": 40,
   "id": "f1635a75",
   "metadata": {},
   "outputs": [
    {
     "data": {
      "text/plain": [
       "['MUX', 'LHE', 'KHI', 'ISL', 'FSD']"
      ]
     },
     "execution_count": 40,
     "metadata": {},
     "output_type": "execute_result"
    }
   ],
   "source": [
    "del city[4]\n",
    "city"
   ]
  },
  {
   "cell_type": "code",
   "execution_count": 45,
   "id": "be1feba9",
   "metadata": {},
   "outputs": [
    {
     "data": {
      "text/plain": [
       "['MUX', 'LHE', 'KHI', 'ISL', 'KSH']"
      ]
     },
     "execution_count": 45,
     "metadata": {},
     "output_type": "execute_result"
    }
   ],
   "source": [
    "city.append(\"KSH\")\n",
    "city"
   ]
  },
  {
   "cell_type": "code",
   "execution_count": 49,
   "id": "8c8e5d24",
   "metadata": {},
   "outputs": [],
   "source": [
    "popped_city= city.pop(0)"
   ]
  },
  {
   "cell_type": "code",
   "execution_count": 50,
   "id": "e557d352",
   "metadata": {},
   "outputs": [
    {
     "data": {
      "text/plain": [
       "'MUX'"
      ]
     },
     "execution_count": 50,
     "metadata": {},
     "output_type": "execute_result"
    }
   ],
   "source": [
    "popped_city"
   ]
  },
  {
   "cell_type": "code",
   "execution_count": 51,
   "id": "7233ef61",
   "metadata": {},
   "outputs": [
    {
     "data": {
      "text/plain": [
       "['LHE', 'KHI', 'ISL']"
      ]
     },
     "execution_count": 51,
     "metadata": {},
     "output_type": "execute_result"
    }
   ],
   "source": [
    "city"
   ]
  },
  {
   "cell_type": "code",
   "execution_count": 52,
   "id": "02b7a42a",
   "metadata": {},
   "outputs": [
    {
     "data": {
      "text/plain": [
       "['MUX', 'LHE', 'KHI', 'ISL']"
      ]
     },
     "execution_count": 52,
     "metadata": {},
     "output_type": "execute_result"
    }
   ],
   "source": [
    "city.insert(0, popped_city)\n",
    "city"
   ]
  },
  {
   "cell_type": "code",
   "execution_count": 53,
   "id": "e6e87959",
   "metadata": {},
   "outputs": [
    {
     "data": {
      "text/plain": [
       "['DataScience']"
      ]
     },
     "execution_count": 53,
     "metadata": {},
     "output_type": "execute_result"
    }
   ],
   "source": [
    "courses.remove(\"Python\")\n",
    "courses"
   ]
  },
  {
   "cell_type": "code",
   "execution_count": 54,
   "id": "85357c7c",
   "metadata": {},
   "outputs": [
    {
     "data": {
      "text/plain": [
       "['Masab', 'Ahmed', 'Ali']"
      ]
     },
     "execution_count": 54,
     "metadata": {},
     "output_type": "execute_result"
    }
   ],
   "source": [
    "students"
   ]
  },
  {
   "cell_type": "code",
   "execution_count": 55,
   "id": "f797449e",
   "metadata": {},
   "outputs": [
    {
     "data": {
      "text/plain": [
       "['Masab', 'Ahmed', 'Ali']"
      ]
     },
     "execution_count": 55,
     "metadata": {},
     "output_type": "execute_result"
    }
   ],
   "source": [
    "my_students  = students\n",
    "my_students\n",
    "#Pass By Reference"
   ]
  },
  {
   "cell_type": "markdown",
   "id": "ba501601",
   "metadata": {},
   "source": [
    "Pass by Refence \n",
    "\n",
    "Pass by Value"
   ]
  },
  {
   "cell_type": "code",
   "execution_count": null,
   "id": "e779bb21",
   "metadata": {},
   "outputs": [],
   "source": [
    "#pass by reference \n",
    "my_students  = students\n",
    "my_students\n",
    "#any CHanges is LIST will be Implemented in BOTH \n"
   ]
  },
  {
   "cell_type": "code",
   "execution_count": 57,
   "id": "036e8712",
   "metadata": {},
   "outputs": [
    {
     "data": {
      "text/plain": [
       "['Masab', 'Ahmed', 'Ali']"
      ]
     },
     "execution_count": 57,
     "metadata": {},
     "output_type": "execute_result"
    }
   ],
   "source": [
    "#Pass by Value\n",
    "new_students = students.copy()\n",
    "new_students"
   ]
  },
  {
   "cell_type": "code",
   "execution_count": 58,
   "id": "e82a0ebe",
   "metadata": {},
   "outputs": [
    {
     "data": {
      "text/plain": [
       "['MUX', 'LHE', 'KHI', 'ISL']"
      ]
     },
     "execution_count": 58,
     "metadata": {},
     "output_type": "execute_result"
    }
   ],
   "source": [
    "n_city= city.copy()\n",
    "n_city"
   ]
  },
  {
   "cell_type": "code",
   "execution_count": 59,
   "id": "7aa74aa3",
   "metadata": {},
   "outputs": [
    {
     "data": {
      "text/plain": [
       "2336136510144"
      ]
     },
     "execution_count": 59,
     "metadata": {},
     "output_type": "execute_result"
    }
   ],
   "source": [
    "id(city)"
   ]
  },
  {
   "cell_type": "code",
   "execution_count": 63,
   "id": "631b7efd",
   "metadata": {},
   "outputs": [
    {
     "data": {
      "text/plain": [
       "2336134798080"
      ]
     },
     "execution_count": 63,
     "metadata": {},
     "output_type": "execute_result"
    }
   ],
   "source": [
    "id (n_city)\n"
   ]
  },
  {
   "cell_type": "code",
   "execution_count": 64,
   "id": "8b519d85",
   "metadata": {},
   "outputs": [
    {
     "data": {
      "text/plain": [
       "2336135006528"
      ]
     },
     "execution_count": 64,
     "metadata": {},
     "output_type": "execute_result"
    }
   ],
   "source": [
    "n1_city = [\"MUX , LHE , KHI , ISL\"]\n",
    "id(n1_city)"
   ]
  },
  {
   "cell_type": "code",
   "execution_count": 65,
   "id": "7343a01c",
   "metadata": {},
   "outputs": [
    {
     "data": {
      "text/plain": [
       "2336016192976"
      ]
     },
     "execution_count": 65,
     "metadata": {},
     "output_type": "execute_result"
    }
   ],
   "source": [
    "b = 100\n",
    "id(b)\n"
   ]
  },
  {
   "cell_type": "code",
   "execution_count": 66,
   "id": "02b0b4bf",
   "metadata": {},
   "outputs": [
    {
     "data": {
      "text/plain": [
       "2336016192976"
      ]
     },
     "execution_count": 66,
     "metadata": {},
     "output_type": "execute_result"
    }
   ],
   "source": [
    "c= 100\n",
    "id(c)"
   ]
  },
  {
   "cell_type": "code",
   "execution_count": 67,
   "id": "73606ab7",
   "metadata": {},
   "outputs": [
    {
     "data": {
      "text/plain": [
       "0"
      ]
     },
     "execution_count": 67,
     "metadata": {},
     "output_type": "execute_result"
    }
   ],
   "source": [
    "students.count(\"a\")"
   ]
  },
  {
   "cell_type": "code",
   "execution_count": 68,
   "id": "ff6c1632",
   "metadata": {},
   "outputs": [
    {
     "data": {
      "text/plain": [
       "['Masab', 'Ahmed', 'Ali', 'a', 'b', 'c']"
      ]
     },
     "execution_count": 68,
     "metadata": {},
     "output_type": "execute_result"
    }
   ],
   "source": [
    "new_students.extend([\"a\",\"b\",\"c\"])\n",
    "new_students"
   ]
  },
  {
   "cell_type": "code",
   "execution_count": 69,
   "id": "8251186a",
   "metadata": {},
   "outputs": [
    {
     "data": {
      "text/plain": [
       "0"
      ]
     },
     "execution_count": 69,
     "metadata": {},
     "output_type": "execute_result"
    }
   ],
   "source": [
    "new_students.index(\"Masab\")"
   ]
  },
  {
   "cell_type": "code",
   "execution_count": 72,
   "id": "2d6da150",
   "metadata": {},
   "outputs": [
    {
     "data": {
      "text/plain": [
       "['c', 'b', 'a', 'Ali', 'Ahmed', 'Masab']"
      ]
     },
     "execution_count": 72,
     "metadata": {},
     "output_type": "execute_result"
    }
   ],
   "source": [
    "new_students.reverse()\n",
    "new_students "
   ]
  },
  {
   "cell_type": "code",
   "execution_count": 78,
   "id": "22e6fe5b",
   "metadata": {},
   "outputs": [
    {
     "data": {
      "text/plain": [
       "['Ahmed',\n",
       " 'Ali',\n",
       " 'M',\n",
       " 'Masaab',\n",
       " 'Masab',\n",
       " 'a',\n",
       " 'a',\n",
       " 'a',\n",
       " 'a',\n",
       " 'b',\n",
       " 'b',\n",
       " 'c',\n",
       " 's']"
      ]
     },
     "execution_count": 78,
     "metadata": {},
     "output_type": "execute_result"
    }
   ],
   "source": [
    "new_students.sort()\n",
    "new_students"
   ]
  },
  {
   "cell_type": "code",
   "execution_count": 75,
   "id": "f519c033",
   "metadata": {},
   "outputs": [
    {
     "data": {
      "text/plain": [
       "['Ahmed',\n",
       " 'Ali',\n",
       " 'Masab',\n",
       " 'a',\n",
       " 'b',\n",
       " 'c',\n",
       " 'M',\n",
       " 'a',\n",
       " 's',\n",
       " 'a',\n",
       " 'a',\n",
       " 'b',\n",
       " 'Masaab']"
      ]
     },
     "execution_count": 75,
     "metadata": {},
     "output_type": "execute_result"
    }
   ],
   "source": [
    "new_students.extend([\"Masaab\"])\n",
    "new_students"
   ]
  },
  {
   "cell_type": "markdown",
   "id": "1f897f48",
   "metadata": {},
   "source": [
    "# Indexing and Slicing\n"
   ]
  },
  {
   "cell_type": "code",
   "execution_count": 81,
   "id": "c312ccb8",
   "metadata": {},
   "outputs": [
    {
     "data": {
      "text/plain": [
       "60"
      ]
     },
     "execution_count": 81,
     "metadata": {},
     "output_type": "execute_result"
    }
   ],
   "source": [
    "marks = [90,80,70,60,65,55,20]\n",
    "#indexing\n",
    "marks[3]"
   ]
  },
  {
   "cell_type": "code",
   "execution_count": 82,
   "id": "5037d8b8",
   "metadata": {},
   "outputs": [
    {
     "data": {
      "text/plain": [
       "[80, 70, 60]"
      ]
     },
     "execution_count": 82,
     "metadata": {},
     "output_type": "execute_result"
    }
   ],
   "source": [
    "marks[1:4]"
   ]
  },
  {
   "cell_type": "code",
   "execution_count": 83,
   "id": "7164a280",
   "metadata": {},
   "outputs": [
    {
     "data": {
      "text/plain": [
       "[60]"
      ]
     },
     "execution_count": 83,
     "metadata": {},
     "output_type": "execute_result"
    }
   ],
   "source": [
    "marks[3:4]"
   ]
  },
  {
   "cell_type": "code",
   "execution_count": 84,
   "id": "786a8ea0",
   "metadata": {},
   "outputs": [
    {
     "data": {
      "text/plain": [
       "[60, 65, 55, 20]"
      ]
     },
     "execution_count": 84,
     "metadata": {},
     "output_type": "execute_result"
    }
   ],
   "source": [
    "marks[3:7]"
   ]
  },
  {
   "cell_type": "code",
   "execution_count": 85,
   "id": "d44e6747",
   "metadata": {},
   "outputs": [
    {
     "data": {
      "text/plain": [
       "[60, 65, 55, 20]"
      ]
     },
     "execution_count": 85,
     "metadata": {},
     "output_type": "execute_result"
    }
   ],
   "source": [
    "marks[3:]"
   ]
  },
  {
   "cell_type": "code",
   "execution_count": 87,
   "id": "d6953173",
   "metadata": {},
   "outputs": [
    {
     "data": {
      "text/plain": [
       "[80, 70]"
      ]
     },
     "execution_count": 87,
     "metadata": {},
     "output_type": "execute_result"
    }
   ],
   "source": [
    "marks[1:3]"
   ]
  },
  {
   "cell_type": "code",
   "execution_count": 88,
   "id": "d06412a6",
   "metadata": {},
   "outputs": [
    {
     "data": {
      "text/plain": [
       "[80, 70, 60]"
      ]
     },
     "execution_count": 88,
     "metadata": {},
     "output_type": "execute_result"
    }
   ],
   "source": [
    "m_marks= marks[1:4]\n",
    "m_marks"
   ]
  },
  {
   "cell_type": "code",
   "execution_count": 89,
   "id": "5f6db3b4",
   "metadata": {},
   "outputs": [
    {
     "data": {
      "text/plain": [
       "[90, 70, 65]"
      ]
     },
     "execution_count": 89,
     "metadata": {},
     "output_type": "execute_result"
    }
   ],
   "source": [
    "marks[0:5:2]"
   ]
  },
  {
   "cell_type": "code",
   "execution_count": 90,
   "id": "b121196b",
   "metadata": {},
   "outputs": [
    {
     "data": {
      "text/plain": [
       "[90, 80, 70, 60, 65, 55, 20]"
      ]
     },
     "execution_count": 90,
     "metadata": {},
     "output_type": "execute_result"
    }
   ],
   "source": [
    "marks"
   ]
  },
  {
   "cell_type": "code",
   "execution_count": 91,
   "id": "264bc0c2",
   "metadata": {},
   "outputs": [
    {
     "data": {
      "text/plain": [
       "[20, 55, 65]"
      ]
     },
     "execution_count": 91,
     "metadata": {},
     "output_type": "execute_result"
    }
   ],
   "source": [
    "marks[-1:-4:-1]"
   ]
  },
  {
   "cell_type": "code",
   "execution_count": 92,
   "id": "3ef94925",
   "metadata": {},
   "outputs": [
    {
     "data": {
      "text/plain": [
       "[20, 55, 65, 60, 70, 80, 90]"
      ]
     },
     "execution_count": 92,
     "metadata": {},
     "output_type": "execute_result"
    }
   ],
   "source": [
    "marks[::-1]"
   ]
  },
  {
   "cell_type": "code",
   "execution_count": 93,
   "id": "c18a0174",
   "metadata": {},
   "outputs": [
    {
     "data": {
      "text/plain": [
       "[20, 65, 70, 90]"
      ]
     },
     "execution_count": 93,
     "metadata": {},
     "output_type": "execute_result"
    }
   ],
   "source": [
    "marks[::-2]"
   ]
  },
  {
   "cell_type": "code",
   "execution_count": 97,
   "id": "38c675ce",
   "metadata": {},
   "outputs": [
    {
     "data": {
      "text/plain": [
       "[20, 65]"
      ]
     },
     "execution_count": 97,
     "metadata": {},
     "output_type": "execute_result"
    }
   ],
   "source": [
    "marks[-1:-4:-2]"
   ]
  },
  {
   "cell_type": "code",
   "execution_count": 99,
   "id": "84d0e92c",
   "metadata": {},
   "outputs": [
    {
     "data": {
      "text/plain": [
       "[90, 80, 70, 60, 65, 55, 20]"
      ]
     },
     "execution_count": 99,
     "metadata": {},
     "output_type": "execute_result"
    }
   ],
   "source": [
    "marks        "
   ]
  },
  {
   "cell_type": "code",
   "execution_count": 101,
   "id": "a5d15338",
   "metadata": {},
   "outputs": [
    {
     "data": {
      "text/plain": [
       "[80, 60]"
      ]
     },
     "execution_count": 101,
     "metadata": {},
     "output_type": "execute_result"
    }
   ],
   "source": [
    "marks[1:5:2]"
   ]
  },
  {
   "cell_type": "code",
   "execution_count": null,
   "id": "615672a8",
   "metadata": {},
   "outputs": [],
   "source": []
  }
 ],
 "metadata": {
  "kernelspec": {
   "display_name": "Python 3 (ipykernel)",
   "language": "python",
   "name": "python3"
  },
  "language_info": {
   "codemirror_mode": {
    "name": "ipython",
    "version": 3
   },
   "file_extension": ".py",
   "mimetype": "text/x-python",
   "name": "python",
   "nbconvert_exporter": "python",
   "pygments_lexer": "ipython3",
   "version": "3.9.7"
  }
 },
 "nbformat": 4,
 "nbformat_minor": 5
}
