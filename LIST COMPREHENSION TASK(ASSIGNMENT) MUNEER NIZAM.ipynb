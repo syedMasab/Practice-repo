{
 "cells": [
  {
   "cell_type": "code",
   "execution_count": 1,
   "id": "fc510a13",
   "metadata": {},
   "outputs": [],
   "source": [
    "#Find all of the numbers from 1–1000 that are divisible by 8"
   ]
  },
  {
   "cell_type": "code",
   "execution_count": 28,
   "id": "7a2312c2",
   "metadata": {},
   "outputs": [
    {
     "name": "stdout",
     "output_type": "stream",
     "text": [
      "[8, 16, 24, 32, 40, 48, 56, 64, 72, 80, 88, 96, 104, 112, 120, 128, 136, 144, 152, 160, 168, 176, 184, 192, 200, 208, 216, 224, 232, 240, 248, 256, 264, 272, 280, 288, 296, 304, 312, 320, 328, 336, 344, 352, 360, 368, 376, 384, 392, 400, 408, 416, 424, 432, 440, 448, 456, 464, 472, 480, 488, 496, 504, 512, 520, 528, 536, 544, 552, 560, 568, 576, 584, 592, 600, 608, 616, 624, 632, 640, 648, 656, 664, 672, 680, 688, 696, 704, 712, 720, 728, 736, 744, 752, 760, 768, 776, 784, 792, 800, 808, 816, 824, 832, 840, 848, 856, 864, 872, 880, 888, 896, 904, 912, 920, 928, 936, 944, 952, 960, 968, 976, 984, 992]\n"
     ]
    }
   ],
   "source": [
    "number=[num for num in range(1,1000) if num%8==0]\n",
    "print(number)"
   ]
  },
  {
   "cell_type": "code",
   "execution_count": null,
   "id": "3d13ead3",
   "metadata": {},
   "outputs": [],
   "source": [
    "#Find all of the numbers from 1–1000 that have a 6 in them"
   ]
  },
  {
   "cell_type": "code",
   "execution_count": 35,
   "id": "d16cfc71",
   "metadata": {},
   "outputs": [
    {
     "name": "stdout",
     "output_type": "stream",
     "text": [
      "[6, 16, 26, 36, 46, 56, 60, 61, 62, 63, 64, 65, 66, 67, 68, 69, 76, 86, 96, 106, 116, 126, 136, 146, 156, 160, 161, 162, 163, 164, 165, 166, 167, 168, 169, 176, 186, 196, 206, 216, 226, 236, 246, 256, 260, 261, 262, 263, 264, 265, 266, 267, 268, 269, 276, 286, 296, 306, 316, 326, 336, 346, 356, 360, 361, 362, 363, 364, 365, 366, 367, 368, 369, 376, 386, 396, 406, 416, 426, 436, 446, 456, 460, 461, 462, 463, 464, 465, 466, 467, 468, 469, 476, 486, 496, 506, 516, 526, 536, 546, 556, 560, 561, 562, 563, 564, 565, 566, 567, 568, 569, 576, 586, 596, 600, 601, 602, 603, 604, 605, 606, 607, 608, 609, 610, 611, 612, 613, 614, 615, 616, 617, 618, 619, 620, 621, 622, 623, 624, 625, 626, 627, 628, 629, 630, 631, 632, 633, 634, 635, 636, 637, 638, 639, 640, 641, 642, 643, 644, 645, 646, 647, 648, 649, 650, 651, 652, 653, 654, 655, 656, 657, 658, 659, 660, 661, 662, 663, 664, 665, 666, 667, 668, 669, 670, 671, 672, 673, 674, 675, 676, 677, 678, 679, 680, 681, 682, 683, 684, 685, 686, 687, 688, 689, 690, 691, 692, 693, 694, 695, 696, 697, 698, 699, 706, 716, 726, 736, 746, 756, 760, 761, 762, 763, 764, 765, 766, 767, 768, 769, 776, 786, 796, 806, 816, 826, 836, 846, 856, 860, 861, 862, 863, 864, 865, 866, 867, 868, 869, 876, 886, 896, 906, 916, 926, 936, 946, 956, 960, 961, 962, 963, 964, 965, 966, 967, 968, 969, 976, 986, 996]\n"
     ]
    }
   ],
   "source": [
    "number1=[num for num in range(1,1000) if '6' in str(num)]\n",
    "print(number1)"
   ]
  },
  {
   "cell_type": "code",
   "execution_count": 36,
   "id": "e7a2bac4",
   "metadata": {},
   "outputs": [],
   "source": [
    "#Count the number of spaces in a string (use string above)"
   ]
  },
  {
   "cell_type": "code",
   "execution_count": 41,
   "id": "2966f4d7",
   "metadata": {},
   "outputs": [
    {
     "name": "stdout",
     "output_type": "stream",
     "text": [
      "5\n"
     ]
    }
   ],
   "source": [
    "string=\"My name is Muneer Nizam .\"\n",
    "length=len([i for i in string if i==\" \" ])\n",
    "print(length)"
   ]
  },
  {
   "cell_type": "code",
   "execution_count": 42,
   "id": "36e3dc9b",
   "metadata": {},
   "outputs": [],
   "source": [
    "#Remove all of the vowels in a string"
   ]
  },
  {
   "cell_type": "code",
   "execution_count": 43,
   "id": "63e104c3",
   "metadata": {},
   "outputs": [
    {
     "name": "stdout",
     "output_type": "stream",
     "text": [
      "My nm s Mnr Nzm .\n"
     ]
    }
   ],
   "source": [
    "vowels=\"\".join([j for j in string if j not in[\n",
    "    'a','e','i','o','u'\n",
    "]])\n",
    "print(vowels)"
   ]
  },
  {
   "cell_type": "code",
   "execution_count": 44,
   "id": "cd441d5a",
   "metadata": {},
   "outputs": [],
   "source": [
    "# Find all of the words in a string that are less than 5 letters"
   ]
  },
  {
   "cell_type": "code",
   "execution_count": 46,
   "id": "5cb934d7",
   "metadata": {},
   "outputs": [
    {
     "name": "stdout",
     "output_type": "stream",
     "text": [
      "['My', 'name', 'is', '.']\n"
     ]
    }
   ],
   "source": [
    "words = string.split(\" \")\n",
    "letters = [word for word in words if len(word) < 5]\n",
    "print(letters)"
   ]
  },
  {
   "cell_type": "code",
   "execution_count": 47,
   "id": "94b33524",
   "metadata": {},
   "outputs": [],
   "source": [
    "#Use a list comprehension that iterates over a_list, prints a list composed of each value in a_list multiplied by 10."
   ]
  },
  {
   "cell_type": "code",
   "execution_count": 49,
   "id": "2a5b4f74",
   "metadata": {},
   "outputs": [
    {
     "name": "stdout",
     "output_type": "stream",
     "text": [
      "[10, 20, 30, 40, 50, 60, 70, 80, 90, 100]\n"
     ]
    }
   ],
   "source": [
    "list=range(1,11)\n",
    "mul_list=[l*10 for l in list]\n",
    "print(mul_list)"
   ]
  },
  {
   "cell_type": "code",
   "execution_count": 50,
   "id": "c4ba4725",
   "metadata": {},
   "outputs": [],
   "source": [
    "#Use a list comprehension that iterates over a_list, prints a list composed of odd numbers from 1 to 9."
   ]
  },
  {
   "cell_type": "code",
   "execution_count": 54,
   "id": "80158556",
   "metadata": {},
   "outputs": [
    {
     "name": "stdout",
     "output_type": "stream",
     "text": [
      "[1, 3, 5, 7, 9]\n"
     ]
    }
   ],
   "source": [
    "odd_list=[o for o in list if o%2!=0 or o%2==1]\n",
    "print(odd_list)"
   ]
  },
  {
   "cell_type": "code",
   "execution_count": null,
   "id": "8c103f66",
   "metadata": {},
   "outputs": [],
   "source": []
  }
 ],
 "metadata": {
  "kernelspec": {
   "display_name": "Python 3 (ipykernel)",
   "language": "python",
   "name": "python3"
  },
  "language_info": {
   "codemirror_mode": {
    "name": "ipython",
    "version": 3
   },
   "file_extension": ".py",
   "mimetype": "text/x-python",
   "name": "python",
   "nbconvert_exporter": "python",
   "pygments_lexer": "ipython3",
   "version": "3.9.7"
  }
 },
 "nbformat": 4,
 "nbformat_minor": 5
}
