{
 "cells": [
  {
   "cell_type": "markdown",
   "id": "db476c76",
   "metadata": {},
   "source": [
    "# List in a Dictionary"
   ]
  },
  {
   "cell_type": "code",
   "execution_count": 22,
   "id": "dd330f1e",
   "metadata": {},
   "outputs": [],
   "source": [
    "list_in_dic = {'students':['Nasir','Yasir','Umer','Saad'], 'marks':[10,9,8,9]}\n",
    "import pandas as pd\n",
    "pd.DataFrame(list_in_dic)"
   ]
  },
  {
   "cell_type": "code",
   "execution_count": 23,
   "id": "292e4069",
   "metadata": {},
   "outputs": [
    {
     "data": {
      "text/plain": [
       "{'students': ['Nasir', 'Yasir', 'Umer', 'Saad'], 'marks': [10, 9, 8, 9]}"
      ]
     },
     "execution_count": 23,
     "metadata": {},
     "output_type": "execute_result"
    }
   ],
   "source": [
    "list_in_dic"
   ]
  },
  {
   "cell_type": "code",
   "execution_count": 4,
   "id": "072e1886",
   "metadata": {},
   "outputs": [
    {
     "data": {
      "text/plain": [
       "['Nasir', 'Yasir', 'Umer', 'Saad']"
      ]
     },
     "execution_count": 4,
     "metadata": {},
     "output_type": "execute_result"
    }
   ],
   "source": [
    "list_in_dic['students']"
   ]
  },
  {
   "cell_type": "code",
   "execution_count": 5,
   "id": "81960b35",
   "metadata": {},
   "outputs": [
    {
     "data": {
      "text/plain": [
       "[10, 9, 8, 9]"
      ]
     },
     "execution_count": 5,
     "metadata": {},
     "output_type": "execute_result"
    }
   ],
   "source": [
    "list_in_dic['marks']"
   ]
  },
  {
   "cell_type": "code",
   "execution_count": 7,
   "id": "5da991d9",
   "metadata": {},
   "outputs": [
    {
     "data": {
      "text/plain": [
       "['Yasir', 'Umer']"
      ]
     },
     "execution_count": 7,
     "metadata": {},
     "output_type": "execute_result"
    }
   ],
   "source": [
    "list_in_dic['students'][1:3]"
   ]
  },
  {
   "cell_type": "markdown",
   "id": "e7bec049",
   "metadata": {},
   "source": [
    "# Dictionary in a list"
   ]
  },
  {
   "cell_type": "code",
   "execution_count": 8,
   "id": "1acf2367",
   "metadata": {},
   "outputs": [],
   "source": [
    "dic_in_list = [{'sales':[1,21,31,42,34,51,23,41]},\n",
    "               {'profit':[2,3,4,5,6,7,7,9]},\n",
    "               {'cost':[1,1,1,2,2,2,]}\n",
    "              ]"
   ]
  },
  {
   "cell_type": "code",
   "execution_count": 9,
   "id": "64163480",
   "metadata": {},
   "outputs": [
    {
     "data": {
      "text/plain": [
       "[{'sales': [1, 21, 31, 42, 34, 51, 23, 41]},\n",
       " {'profit': [2, 3, 4, 5, 6, 7, 7, 9]},\n",
       " {'cost': [1, 1, 1, 2, 2, 2]}]"
      ]
     },
     "execution_count": 9,
     "metadata": {},
     "output_type": "execute_result"
    }
   ],
   "source": [
    "dic_in_list"
   ]
  },
  {
   "cell_type": "code",
   "execution_count": 10,
   "id": "5822b479",
   "metadata": {},
   "outputs": [
    {
     "data": {
      "text/plain": [
       "{'sales': [1, 21, 31, 42, 34, 51, 23, 41]}"
      ]
     },
     "execution_count": 10,
     "metadata": {},
     "output_type": "execute_result"
    }
   ],
   "source": [
    "dic_in_list[0]"
   ]
  },
  {
   "cell_type": "code",
   "execution_count": 11,
   "id": "3fba6336",
   "metadata": {},
   "outputs": [
    {
     "data": {
      "text/plain": [
       "{'profit': [2, 3, 4, 5, 6, 7, 7, 9]}"
      ]
     },
     "execution_count": 11,
     "metadata": {},
     "output_type": "execute_result"
    }
   ],
   "source": [
    "dic_in_list[1]"
   ]
  },
  {
   "cell_type": "code",
   "execution_count": 12,
   "id": "6ac963ad",
   "metadata": {},
   "outputs": [
    {
     "data": {
      "text/plain": [
       "{'cost': [1, 1, 1, 2, 2, 2]}"
      ]
     },
     "execution_count": 12,
     "metadata": {},
     "output_type": "execute_result"
    }
   ],
   "source": [
    "dic_in_list[2]"
   ]
  },
  {
   "cell_type": "code",
   "execution_count": 14,
   "id": "3b1075dd",
   "metadata": {},
   "outputs": [
    {
     "data": {
      "text/plain": [
       "31"
      ]
     },
     "execution_count": 14,
     "metadata": {},
     "output_type": "execute_result"
    }
   ],
   "source": [
    "dic_in_list[0]['sales'][2]"
   ]
  },
  {
   "cell_type": "code",
   "execution_count": 15,
   "id": "72166879",
   "metadata": {},
   "outputs": [],
   "source": [
    "dict_in_dic = {\n",
    "                 'dict1':{'profit': [2, 3, 4, 5, 6, 7, 7, 9]},\n",
    "                 'dict2':{'cost': [1, 1, 1, 2, 2, 2]}\n",
    "                  \n",
    "}"
   ]
  },
  {
   "cell_type": "code",
   "execution_count": 16,
   "id": "ce4d9fa9",
   "metadata": {},
   "outputs": [
    {
     "data": {
      "text/plain": [
       "{'dict1': {'profit': [2, 3, 4, 5, 6, 7, 7, 9]},\n",
       " 'dict2': {'cost': [1, 1, 1, 2, 2, 2]}}"
      ]
     },
     "execution_count": 16,
     "metadata": {},
     "output_type": "execute_result"
    }
   ],
   "source": [
    "dict_in_dic"
   ]
  },
  {
   "cell_type": "code",
   "execution_count": 19,
   "id": "5461342b",
   "metadata": {},
   "outputs": [
    {
     "data": {
      "text/plain": [
       "{'profit': [2, 3, 4, 5, 6, 7, 7, 9]}"
      ]
     },
     "execution_count": 19,
     "metadata": {},
     "output_type": "execute_result"
    }
   ],
   "source": [
    "dict_in_dic['dict1']"
   ]
  },
  {
   "cell_type": "code",
   "execution_count": 21,
   "id": "d4f6b6de",
   "metadata": {},
   "outputs": [
    {
     "data": {
      "text/plain": [
       "6"
      ]
     },
     "execution_count": 21,
     "metadata": {},
     "output_type": "execute_result"
    }
   ],
   "source": [
    "dict_in_dic['dict1']['profit'][4]"
   ]
  },
  {
   "cell_type": "markdown",
   "id": "d85cb1a9",
   "metadata": {},
   "source": [
    "# Python Quizz Solution"
   ]
  },
  {
   "cell_type": "code",
   "execution_count": 24,
   "id": "773cae39",
   "metadata": {},
   "outputs": [
    {
     "ename": "TypeError",
     "evalue": "'>' not supported between instances of 'dict' and 'dict'",
     "output_type": "error",
     "traceback": [
      "\u001b[1;31m---------------------------------------------------------------------------\u001b[0m",
      "\u001b[1;31mTypeError\u001b[0m                                 Traceback (most recent call last)",
      "\u001b[1;32mC:\\Users\\LAB-02~1\\AppData\\Local\\Temp/ipykernel_10764/2638380836.py\u001b[0m in \u001b[0;36m<module>\u001b[1;34m\u001b[0m\n\u001b[0;32m      1\u001b[0m \u001b[0md0\u001b[0m \u001b[1;33m=\u001b[0m \u001b[1;33m{\u001b[0m \u001b[1;34m'a'\u001b[0m\u001b[1;33m:\u001b[0m\u001b[1;36m1\u001b[0m\u001b[1;33m,\u001b[0m \u001b[1;34m'b'\u001b[0m\u001b[1;33m:\u001b[0m\u001b[1;36m2\u001b[0m\u001b[1;33m}\u001b[0m\u001b[1;33m\u001b[0m\u001b[1;33m\u001b[0m\u001b[0m\n\u001b[0;32m      2\u001b[0m \u001b[0md1\u001b[0m \u001b[1;33m=\u001b[0m \u001b[1;33m{\u001b[0m \u001b[1;34m'a'\u001b[0m\u001b[1;33m:\u001b[0m\u001b[1;36m3\u001b[0m\u001b[1;33m,\u001b[0m \u001b[1;34m'b'\u001b[0m\u001b[1;33m:\u001b[0m\u001b[1;36m4\u001b[0m\u001b[1;33m}\u001b[0m\u001b[1;33m\u001b[0m\u001b[1;33m\u001b[0m\u001b[0m\n\u001b[1;32m----> 3\u001b[1;33m \u001b[0md1\u001b[0m \u001b[1;33m>\u001b[0m \u001b[0md0\u001b[0m\u001b[1;33m\u001b[0m\u001b[1;33m\u001b[0m\u001b[0m\n\u001b[0m",
      "\u001b[1;31mTypeError\u001b[0m: '>' not supported between instances of 'dict' and 'dict'"
     ]
    }
   ],
   "source": [
    "d0 = { 'a':1, 'b':2}\n",
    "d1 = { 'a':3, 'b':4}\n",
    "d1 > d0\n"
   ]
  },
  {
   "cell_type": "code",
   "execution_count": 26,
   "id": "f5b87880",
   "metadata": {},
   "outputs": [
    {
     "name": "stdout",
     "output_type": "stream",
     "text": [
      "[786, 2.23]\n"
     ]
    }
   ],
   "source": [
    "list = [ 'abcd', 786 , 2.23, 'john', 70.2 ]\n",
    "print (list[1:3])\n",
    "\n",
    "# A - [ 'abcd', 786 , 2.23, 'john', 70.2 ]\n",
    "# B - abcd\n",
    "# C - [786, 2.23]\n",
    "# D - None of the above.\n"
   ]
  },
  {
   "cell_type": "code",
   "execution_count": 27,
   "id": "f91ca140",
   "metadata": {},
   "outputs": [
    {
     "name": "stdout",
     "output_type": "stream",
     "text": [
      "<class 'float'>\n"
     ]
    }
   ],
   "source": [
    "print(type(1/2))\n",
    "# A - <class 'float'>\n",
    "# B - <class 'int'>\n",
    "# C - NameError: ‘½’ is not defined.\n",
    "# D - 0.5\n"
   ]
  },
  {
   "cell_type": "code",
   "execution_count": 32,
   "id": "37146e83",
   "metadata": {},
   "outputs": [
    {
     "ename": "TypeError",
     "evalue": "'float' object cannot be interpreted as an integer",
     "output_type": "error",
     "traceback": [
      "\u001b[1;31m---------------------------------------------------------------------------\u001b[0m",
      "\u001b[1;31mTypeError\u001b[0m                                 Traceback (most recent call last)",
      "\u001b[1;32mC:\\Users\\LAB-02~1\\AppData\\Local\\Temp/ipykernel_10764/2931482243.py\u001b[0m in \u001b[0;36m<module>\u001b[1;34m\u001b[0m\n\u001b[0;32m      1\u001b[0m \u001b[0ms\u001b[0m \u001b[1;33m=\u001b[0m \u001b[1;36m0\u001b[0m\u001b[1;33m\u001b[0m\u001b[1;33m\u001b[0m\u001b[0m\n\u001b[1;32m----> 2\u001b[1;33m \u001b[1;32mfor\u001b[0m \u001b[0md\u001b[0m \u001b[1;32min\u001b[0m \u001b[0mrange\u001b[0m\u001b[1;33m(\u001b[0m\u001b[1;36m0\u001b[0m\u001b[1;33m,\u001b[0m \u001b[1;36m5\u001b[0m\u001b[1;33m,\u001b[0m \u001b[1;36m0.1\u001b[0m\u001b[1;33m)\u001b[0m\u001b[1;33m:\u001b[0m\u001b[1;33m\u001b[0m\u001b[1;33m\u001b[0m\u001b[0m\n\u001b[0m\u001b[0;32m      3\u001b[0m     \u001b[0ms\u001b[0m \u001b[1;33m+=\u001b[0m \u001b[0md\u001b[0m\u001b[1;33m\u001b[0m\u001b[1;33m\u001b[0m\u001b[0m\n\u001b[0;32m      4\u001b[0m \u001b[0mprint\u001b[0m\u001b[1;33m(\u001b[0m\u001b[0ms\u001b[0m\u001b[1;33m)\u001b[0m\u001b[1;33m\u001b[0m\u001b[1;33m\u001b[0m\u001b[0m\n\u001b[0;32m      5\u001b[0m \u001b[1;31m# A - Syntax Error\u001b[0m\u001b[1;33m\u001b[0m\u001b[1;33m\u001b[0m\u001b[0m\n",
      "\u001b[1;31mTypeError\u001b[0m: 'float' object cannot be interpreted as an integer"
     ]
    }
   ],
   "source": [
    "s = 0\n",
    "for d in range(0, 5, 0.1):\n",
    "    s += d\n",
    "print(s)\n",
    "# A - Syntax Error\n",
    "# B - Type Error\n",
    "# C - Runtime Error\n",
    "# D - Both b & c\n"
   ]
  },
  {
   "cell_type": "code",
   "execution_count": 33,
   "id": "34d29973",
   "metadata": {},
   "outputs": [
    {
     "name": "stdout",
     "output_type": "stream",
     "text": [
      "[11, 15, 19]\n"
     ]
    }
   ],
   "source": [
    "b = [11,13,15,17,19,21]\n",
    "print(b[::2])\n",
    "# A - [19,21]\n",
    "# B - [11,15]\n",
    "# C - [11,15,19]\n",
    "# D - [13,17,21]\n"
   ]
  },
  {
   "cell_type": "code",
   "execution_count": 35,
   "id": "c1947002",
   "metadata": {},
   "outputs": [
    {
     "ename": "TypeError",
     "evalue": "'str' object does not support item assignment",
     "output_type": "error",
     "traceback": [
      "\u001b[1;31m---------------------------------------------------------------------------\u001b[0m",
      "\u001b[1;31mTypeError\u001b[0m                                 Traceback (most recent call last)",
      "\u001b[1;32mC:\\Users\\LAB-02~1\\AppData\\Local\\Temp/ipykernel_10764/3375744694.py\u001b[0m in \u001b[0;36m<module>\u001b[1;34m\u001b[0m\n\u001b[0;32m      1\u001b[0m \u001b[0mname\u001b[0m \u001b[1;33m=\u001b[0m \u001b[1;34m\"Saylani\"\u001b[0m\u001b[1;33m\u001b[0m\u001b[1;33m\u001b[0m\u001b[0m\n\u001b[1;32m----> 2\u001b[1;33m \u001b[0mname\u001b[0m\u001b[1;33m[\u001b[0m\u001b[1;36m0\u001b[0m\u001b[1;33m]\u001b[0m\u001b[1;33m=\u001b[0m\u001b[0ms\u001b[0m\u001b[1;33m\u001b[0m\u001b[1;33m\u001b[0m\u001b[0m\n\u001b[0m\u001b[0;32m      3\u001b[0m \u001b[0mprint\u001b[0m\u001b[1;33m(\u001b[0m\u001b[0mname\u001b[0m\u001b[1;33m)\u001b[0m\u001b[1;33m\u001b[0m\u001b[1;33m\u001b[0m\u001b[0m\n\u001b[0;32m      4\u001b[0m \u001b[1;33m\u001b[0m\u001b[0m\n\u001b[0;32m      5\u001b[0m \u001b[1;31m# A.    saylani\u001b[0m\u001b[1;33m\u001b[0m\u001b[1;33m\u001b[0m\u001b[0m\n",
      "\u001b[1;31mTypeError\u001b[0m: 'str' object does not support item assignment"
     ]
    }
   ],
   "source": [
    "name = \"Saylani\"\n",
    "name[0]=s\n",
    "print(name)\n",
    "\n",
    "# A.\tsaylani\n",
    "# B.\tError\n",
    "# C.\ts\n",
    "# D.\tSaylani\n"
   ]
  },
  {
   "cell_type": "code",
   "execution_count": 37,
   "id": "f1854ab7",
   "metadata": {},
   "outputs": [
    {
     "name": "stdout",
     "output_type": "stream",
     "text": [
      "Asad\n",
      "50\n",
      "DearAsadyour marks are50\n"
     ]
    }
   ],
   "source": [
    "student_name = input()\n",
    "students_marks = input()\n",
    "print('Dear'+ student_name + 'your marks are' + students_marks)\n"
   ]
  },
  {
   "cell_type": "code",
   "execution_count": 38,
   "id": "83154005",
   "metadata": {},
   "outputs": [
    {
     "name": "stdout",
     "output_type": "stream",
     "text": [
      "2.5\n"
     ]
    }
   ],
   "source": [
    "number = 1 + 2 * 3 / 4.0\n",
    "print(number)\n",
    "# A.\t2.0\n",
    "# B.\t2\n",
    "# C.\t2.5\n",
    "# D.\tError\n"
   ]
  },
  {
   "cell_type": "code",
   "execution_count": 39,
   "id": "b62f9f29",
   "metadata": {},
   "outputs": [
    {
     "name": "stdout",
     "output_type": "stream",
     "text": [
      "[1, 3, 5, 7, 2, 4, 6, 8]\n"
     ]
    }
   ],
   "source": [
    "even_numbers = [2,4,6,8]\n",
    "odd_numbers = [1,3,5,7]\n",
    "all_numbers = odd_numbers + even_numbers\n",
    "print(all_numbers)\n",
    "\n",
    "# A.\t[3,7,11,15]\n",
    "# B.\tError\n",
    "# C.\t[2,4,6,8,1,3,5,7]\n",
    "# D.\t[1,3,5,7,2,4,6,8]\n",
    "\n"
   ]
  },
  {
   "cell_type": "code",
   "execution_count": 40,
   "id": "d81e6aea",
   "metadata": {},
   "outputs": [
    {
     "data": {
      "text/plain": [
       "512"
      ]
     },
     "execution_count": 40,
     "metadata": {},
     "output_type": "execute_result"
    }
   ],
   "source": [
    "2 ** 3 ** 2**1\n",
    "# A.\tinvalid \n",
    "# B.\tequal to 16 \n",
    "# C.\tequal to 16.0 \n",
    "# D.\tequal to 512 \n",
    "# E.\tequal to 64 \n",
    "# F.\tequal to 128.0\n",
    "\n"
   ]
  },
  {
   "cell_type": "code",
   "execution_count": 44,
   "id": "2b894295",
   "metadata": {},
   "outputs": [
    {
     "name": "stdout",
     "output_type": "stream",
     "text": [
      "peter's sister's name's \"anna\"\n",
      "peter's sister's name's \"anna\"\n"
     ]
    }
   ],
   "source": [
    "               \n",
    "print(\"peter's sister's name's \\\"anna\\\"\") \n",
    "print('peter\\'s sister\\'s name\\'s \\\"anna\\\"')\n",
    "# print(\"peter's sister's name's \"anna\"\")\n",
    "# print('peter's sister's name's \"anna\"')\n",
    "#Ans: peter's sister's name's \"anna\""
   ]
  },
  {
   "cell_type": "code",
   "execution_count": 45,
   "id": "40a41fff",
   "metadata": {},
   "outputs": [
    {
     "name": "stdout",
     "output_type": "stream",
     "text": [
      "False\n"
     ]
    },
    {
     "data": {
      "text/plain": [
       "bool"
      ]
     },
     "execution_count": 45,
     "metadata": {},
     "output_type": "execute_result"
    }
   ],
   "source": [
    "x = 0 \n",
    "y = 2 \n",
    "z = len(\"python\") \n",
    "x = y > z \n",
    "print(x)\n",
    "type(x)\n",
    "  \t\n",
    "# A.\tint \n",
    "# B.\tfloat \n",
    "# C.\tstr \n",
    "# D.\tbool \n",
    "# E.\tnonetype\n"
   ]
  },
  {
   "cell_type": "code",
   "execution_count": 46,
   "id": "3bb5b8ed",
   "metadata": {},
   "outputs": [
    {
     "name": "stdout",
     "output_type": "stream",
     "text": [
      "3\n"
     ]
    }
   ],
   "source": [
    "a = 0 \n",
    "b = a ** 0 \n",
    "if b < a + 1:\n",
    "    c = 1 \n",
    "elif b == 1: \n",
    "    c = 2 \n",
    "else: \n",
    "     c = 3 \n",
    "print(a + b + c) \n",
    "# A.\t1 \n",
    "# B.\t2 \n",
    "# C.\t3 \n",
    "# D.\tthe code is erroneous\n"
   ]
  },
  {
   "cell_type": "code",
   "execution_count": 50,
   "id": "05e0d0ef",
   "metadata": {},
   "outputs": [
    {
     "name": "stdout",
     "output_type": "stream",
     "text": [
      "False\n"
     ]
    }
   ],
   "source": [
    "x = 20 #\"20\" \n",
    "y = 30# \"30\" \n",
    "print(x > y)\n",
    "\n",
    "# A.\tTrue \n",
    "# B.\tFalse \n",
    "# C.\tnone \n",
    "# D.\tthe comparison causes a runtime exception/error\n"
   ]
  },
  {
   "cell_type": "code",
   "execution_count": 51,
   "id": "5680a7f8",
   "metadata": {},
   "outputs": [
    {
     "name": "stdout",
     "output_type": "stream",
     "text": [
      "hello, python!\n"
     ]
    }
   ],
   "source": [
    "#    01234567890123\n",
    "s = \"hello, python!\"  \n",
    "#    -14           \n",
    "print(s[-14:15]) \n",
    "# A.\thello, python! \n",
    "# B.\t!nohtyp ,olleh \n",
    "# C.\thello, python!hello, python! \n",
    "# D.\t!nohtyp ,olleh!nohtyp ,olleh \n",
    "# E.\tthe program causes a runtime exception/error f. the result cannot be predicted\n"
   ]
  },
  {
   "cell_type": "code",
   "execution_count": 52,
   "id": "79a1e188",
   "metadata": {},
   "outputs": [
    {
     "name": "stdout",
     "output_type": "stream",
     "text": [
      "[2, 4]\n"
     ]
    }
   ],
   "source": [
    "lst = [\"a\", \"b\", \"c\", 2, 4] \n",
    "del lst[0:-2] \n",
    "print(lst) \n",
    "# A.\t[2, 4] \n",
    "# B.\t['c', 2, 4] \n",
    "# C.\t['b', 'c', 2, 4] \n",
    "# D.\t['a', 'b']\n"
   ]
  },
  {
   "cell_type": "code",
   "execution_count": 53,
   "id": "188a46d9",
   "metadata": {},
   "outputs": [
    {
     "name": "stdout",
     "output_type": "stream",
     "text": [
      "a\n",
      "b\n",
      "c\n"
     ]
    }
   ],
   "source": [
    "dict = { 'a': 1, 'b': 2, 'c': 3 } \n",
    "for item in dict: \n",
    " \tprint(item) \n",
    "# A.\ta \n",
    "# b \n",
    "# c \n",
    "# B.\t1 \n",
    "# 2 \n",
    "# 3 \n",
    "# C.\ta:1 \n",
    "# b:2 \n",
    "# c:3 \n",
    "# D.\t the code is erroneous\n"
   ]
  },
  {
   "cell_type": "code",
   "execution_count": 56,
   "id": "f5b328d3",
   "metadata": {},
   "outputs": [
    {
     "name": "stdout",
     "output_type": "stream",
     "text": [
      "python"
     ]
    }
   ],
   "source": [
    "s ='python' \n",
    "for i in range(len(s)): \n",
    "     i = s[i].upper() \n",
    "print(s, end=\"\")\n"
   ]
  },
  {
   "cell_type": "code",
   "execution_count": 58,
   "id": "c44edcb1",
   "metadata": {},
   "outputs": [
    {
     "name": "stdout",
     "output_type": "stream",
     "text": [
      "False\n"
     ]
    },
    {
     "data": {
      "text/plain": [
       "['12', '34']"
      ]
     },
     "execution_count": 58,
     "metadata": {},
     "output_type": "execute_result"
    }
   ],
   "source": [
    "lst1 = \"12,34\" \n",
    "lst2 = lst1.split(',') \n",
    "print(len(lst1) < len(lst2)) \n",
    "lst2"
   ]
  },
  {
   "cell_type": "code",
   "execution_count": 59,
   "id": "88300ee4",
   "metadata": {},
   "outputs": [
    {
     "data": {
      "text/plain": [
       "[99, 88, 77, 66, 55, 44, 33, 22, 11]"
      ]
     },
     "execution_count": 59,
     "metadata": {},
     "output_type": "execute_result"
    }
   ],
   "source": [
    "mylist = [11, 22, 33, 44, 55, 66, 77, 88, 99]\n",
    "mylist [ : : -1 ]\n",
    "# A.\terror\n",
    "# B.\t[ ]\n",
    "# C.\t[99,88,77,66,55,44,33,22,11]\n",
    "# D.\t[11,33,55,77,99]\n"
   ]
  },
  {
   "cell_type": "code",
   "execution_count": 60,
   "id": "29b79780",
   "metadata": {},
   "outputs": [
    {
     "data": {
      "text/plain": [
       "int"
      ]
     },
     "execution_count": 60,
     "metadata": {},
     "output_type": "execute_result"
    }
   ],
   "source": [
    "val = 100\n",
    "# A.\tval.type( )\n",
    "# B.\ttype.val()\n",
    "\n",
    "type(val)\n"
   ]
  },
  {
   "cell_type": "code",
   "execution_count": 65,
   "id": "6fef5476",
   "metadata": {},
   "outputs": [
    {
     "data": {
      "text/plain": [
       "[1, 2, 4]"
      ]
     },
     "execution_count": 65,
     "metadata": {},
     "output_type": "execute_result"
    }
   ],
   "source": [
    "#Q22: what is the correct syntax for deleting a value on index 2 from alist:\n",
    "alist = [1,2,3,4,]     \n",
    "# A.\talist[2].delete( )\n",
    "del alist[2]\n",
    "# C.\talist.remove(2)\n",
    "alist"
   ]
  },
  {
   "cell_type": "code",
   "execution_count": 66,
   "id": "c613b576",
   "metadata": {},
   "outputs": [
    {
     "ename": "TypeError",
     "evalue": "can only concatenate str (not \"int\") to str",
     "output_type": "error",
     "traceback": [
      "\u001b[1;31m---------------------------------------------------------------------------\u001b[0m",
      "\u001b[1;31mTypeError\u001b[0m                                 Traceback (most recent call last)",
      "\u001b[1;32mC:\\Users\\LAB-02~1\\AppData\\Local\\Temp/ipykernel_10764/2182866438.py\u001b[0m in \u001b[0;36m<module>\u001b[1;34m\u001b[0m\n\u001b[0;32m      1\u001b[0m \u001b[0mcountry\u001b[0m\u001b[1;33m=\u001b[0m\u001b[1;34m'pakistan'\u001b[0m\u001b[1;33m\u001b[0m\u001b[1;33m\u001b[0m\u001b[0m\n\u001b[0;32m      2\u001b[0m \u001b[0mindependence_day\u001b[0m\u001b[1;33m=\u001b[0m\u001b[1;36m1947\u001b[0m\u001b[1;33m\u001b[0m\u001b[1;33m\u001b[0m\u001b[0m\n\u001b[1;32m----> 3\u001b[1;33m \u001b[0mprint\u001b[0m\u001b[1;33m(\u001b[0m\u001b[0mcountry\u001b[0m\u001b[1;33m+\u001b[0m\u001b[0mindependence_day\u001b[0m\u001b[1;33m)\u001b[0m\u001b[1;33m\u001b[0m\u001b[1;33m\u001b[0m\u001b[0m\n\u001b[0m",
      "\u001b[1;31mTypeError\u001b[0m: can only concatenate str (not \"int\") to str"
     ]
    }
   ],
   "source": [
    "country='pakistan'\n",
    "independence_day=1947\n",
    "print(country+independence_day)\n"
   ]
  },
  {
   "cell_type": "code",
   "execution_count": 68,
   "id": "bc96b2d7",
   "metadata": {},
   "outputs": [
    {
     "name": "stdout",
     "output_type": "stream",
     "text": [
      "languages:\n",
      "python\n",
      "c\n",
      "javascript\n"
     ]
    }
   ],
   "source": [
    "print(\"languages:\\npython\\nc\\njavascript\")\n",
    "# A.\tlanguages: python c javascript\n",
    "# B.\tlanguages:\n",
    "        # python\n",
    "        # c\n",
    "        # javascript\n"
   ]
  },
  {
   "cell_type": "code",
   "execution_count": 69,
   "id": "ac998a0e",
   "metadata": {},
   "outputs": [
    {
     "data": {
      "text/plain": [
       "3"
      ]
     },
     "execution_count": 69,
     "metadata": {},
     "output_type": "execute_result"
    }
   ],
   "source": [
    "10//3\n",
    "# A.\t3.33\n",
    "# B.\t3\n",
    "# C.\t4\n"
   ]
  },
  {
   "cell_type": "code",
   "execution_count": 72,
   "id": "54479acc",
   "metadata": {},
   "outputs": [
    {
     "data": {
      "text/plain": [
       "(512, 64, 512)"
      ]
     },
     "execution_count": 72,
     "metadata": {},
     "output_type": "execute_result"
    }
   ],
   "source": [
    "2**(3**2), (2**3)**2, 2**3**2 \n",
    "# A.\t64, 512, 64\n",
    "# B.\t512, 64, 512\n",
    "# C.\t512, 512, 512\n",
    "# D.\t64, 512, 512\n"
   ]
  },
  {
   "cell_type": "code",
   "execution_count": 74,
   "id": "3b7a5579",
   "metadata": {},
   "outputs": [
    {
     "name": "stdout",
     "output_type": "stream",
     "text": [
      "1.0\n",
      "4.0\n"
     ]
    },
    {
     "data": {
      "text/plain": [
       "(None, None)"
      ]
     },
     "execution_count": 74,
     "metadata": {},
     "output_type": "execute_result"
    }
   ],
   "source": [
    "print( 8/4/2 ) , print( 8/(4/2))\n",
    "# A.\t, 4.0\n",
    "# B.\t4.0 , 1.0\n",
    "# C.\t1.0,4.0\n",
    "# D.\t4.0, 4.0\n"
   ]
  },
  {
   "cell_type": "code",
   "execution_count": 75,
   "id": "7110a6c9",
   "metadata": {},
   "outputs": [
    {
     "name": "stdout",
     "output_type": "stream",
     "text": [
      "3\n"
     ]
    }
   ],
   "source": [
    "x = 0\n",
    "a = 5 \n",
    "b = 5 \n",
    "if a > 0:\n",
    "    if b< 0 :\n",
    "        x = x + 5\n",
    "    elif a > 5:\n",
    "        x = x +4\n",
    "    else:\n",
    "        x = x +3\n",
    "else:\n",
    "    x = x +2\n",
    "print(x)\n",
    "# A.\t0\n",
    "# B.\t4        \n",
    "# C.\t3\n",
    "x =0\n",
    "a = 5\n",
    "b= 5"
   ]
  },
  {
   "cell_type": "code",
   "execution_count": 77,
   "id": "5303b9ed",
   "metadata": {},
   "outputs": [
    {
     "name": "stdout",
     "output_type": "stream",
     "text": [
      "10 “chair”\n",
      "10 “table”\n",
      "20 “chair”\n",
      "20 “table”\n"
     ]
    }
   ],
   "source": [
    "numbers = [10,20]\n",
    "items = ['“chair”', '“table”'] \n",
    "for x in numbers:\n",
    "    for y in items:\n",
    "        print(x,y)\n",
    "\n",
    "        "
   ]
  },
  {
   "cell_type": "code",
   "execution_count": 81,
   "id": "f31c988b",
   "metadata": {},
   "outputs": [
    {
     "name": "stdout",
     "output_type": "stream",
     "text": [
      "j,o,h,a,n,"
     ]
    }
   ],
   "source": [
    "for l in 'johan':\n",
    "    if l=='o':\n",
    "        pass\n",
    "    print(l, end=',')\n",
    "# A.\tj, h, n\n",
    "# B.\tj, h, o ,n\n",
    "# C.\to, n\n"
   ]
  },
  {
   "cell_type": "code",
   "execution_count": 83,
   "id": "fed04969",
   "metadata": {},
   "outputs": [
    {
     "name": "stdout",
     "output_type": "stream",
     "text": [
      "<class 'str'>\n"
     ]
    }
   ],
   "source": [
    "favorite_languages = {'jen': 'python', 'sarah': 'c', 'edward': 'ruby', 'phil': 'python'}\n",
    "print(type(favorite_languages['jen']))\n",
    "# A.\tlist\n",
    "# B.\tdict\n",
    "# C.\tstr\n"
   ]
  },
  {
   "cell_type": "code",
   "execution_count": 85,
   "id": "6b5d7653",
   "metadata": {},
   "outputs": [
    {
     "name": "stdout",
     "output_type": "stream",
     "text": [
      "{'jen': 'python', 'sarah': 'c', 'edward': 'ruby', 'phil': 'python', 0: 'java'}\n"
     ]
    }
   ],
   "source": [
    "favorite_languages = {'jen': 'python', 'sarah': 'c',  'edward': 'ruby', 'phil': 'python',}\n",
    "favorite_languages[0]=\"java\"\n",
    "print(favorite_languages)\n",
    "# A.\terror\n",
    "# B.\t{'jen': 'python', 'sarah': 'c','edward': 'ruby', 'phil': 'python', 0 : “java”}\n",
    "# C.\t{‘java’, 'jen': 'python', 'sarah': 'c', 'edward': 'ruby', 'phil': 'python',}\n",
    "# D.\t{0:‘java’, 'jen': 'python', 'sarah': 'c', 'edward': 'ruby', 'phil': 'python',}\n"
   ]
  },
  {
   "cell_type": "code",
   "execution_count": null,
   "id": "69d52adc",
   "metadata": {},
   "outputs": [],
   "source": []
  }
 ],
 "metadata": {
  "kernelspec": {
   "display_name": "Python 3 (ipykernel)",
   "language": "python",
   "name": "python3"
  },
  "language_info": {
   "codemirror_mode": {
    "name": "ipython",
    "version": 3
   },
   "file_extension": ".py",
   "mimetype": "text/x-python",
   "name": "python",
   "nbconvert_exporter": "python",
   "pygments_lexer": "ipython3",
   "version": "3.9.7"
  }
 },
 "nbformat": 4,
 "nbformat_minor": 5
}
