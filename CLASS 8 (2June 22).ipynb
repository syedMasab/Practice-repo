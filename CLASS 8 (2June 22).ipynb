{
 "cells": [
  {
   "cell_type": "markdown",
   "id": "10858f3d",
   "metadata": {},
   "source": [
    "# For Loop "
   ]
  },
  {
   "cell_type": "code",
   "execution_count": 4,
   "id": "c77f2a8c",
   "metadata": {},
   "outputs": [
    {
     "name": "stdout",
     "output_type": "stream",
     "text": [
      "0 1 2 3 4 5 6 7 8 9 "
     ]
    }
   ],
   "source": [
    "for i in range(10):\n",
    "    print (i, end=\" \")"
   ]
  },
  {
   "cell_type": "code",
   "execution_count": 5,
   "id": "08b51f90",
   "metadata": {},
   "outputs": [
    {
     "name": "stdout",
     "output_type": "stream",
     "text": [
      "2 3 4 5 6 7 8 "
     ]
    }
   ],
   "source": [
    "for i in range (2,9):\n",
    "    print (i, end=\" \")"
   ]
  },
  {
   "cell_type": "code",
   "execution_count": 6,
   "id": "2b11a0e0",
   "metadata": {},
   "outputs": [
    {
     "name": "stdout",
     "output_type": "stream",
     "text": [
      "10 9 8 7 6 5 4 3 2 1 "
     ]
    }
   ],
   "source": [
    "for i in range(10,0,-1):\n",
    "    print (i, end=\" \")"
   ]
  },
  {
   "cell_type": "code",
   "execution_count": 22,
   "id": "3d12a78c",
   "metadata": {},
   "outputs": [
    {
     "name": "stdout",
     "output_type": "stream",
     "text": [
      "11 10 9 8 7 6 5 4 3 "
     ]
    }
   ],
   "source": [
    "for i in range(11,2 ,-1):\n",
    "    print (i, end=\" \")"
   ]
  },
  {
   "cell_type": "code",
   "execution_count": 24,
   "id": "dfbac1d5",
   "metadata": {},
   "outputs": [
    {
     "name": "stdout",
     "output_type": "stream",
     "text": [
      "1\n",
      "2\n"
     ]
    }
   ],
   "source": [
    "for i in range(1,1000):\n",
    "    if i%3==0:\n",
    "        break\n",
    "    print(i)"
   ]
  },
  {
   "cell_type": "code",
   "execution_count": 52,
   "id": "53f13ea6",
   "metadata": {},
   "outputs": [
    {
     "name": "stdout",
     "output_type": "stream",
     "text": [
      "[2, 4, 6, 8, 12, 14, 16, 18, 22, 24, 26, 28, 32, 34, 36, 38, 42, 44, 46, 48]\n",
      "[1, 3, 7, 9, 11, 13, 17, 19, 21, 23, 27, 29, 31, 33, 37, 39, 41, 43, 47, 49]\n"
     ]
    }
   ],
   "source": [
    "#using and operator\n",
    "even = []\n",
    "odd = []\n",
    "for i in range (1,50):\n",
    "    if i%2==0 and (i%5 !=0):\n",
    "        even.append(i)\n",
    "        \n",
    "    elif i%5 !=0:\n",
    "        odd.append(i)\n",
    "\n",
    "    \n",
    "print (even)\n",
    "print(odd)"
   ]
  },
  {
   "cell_type": "code",
   "execution_count": 53,
   "id": "3f9574c7",
   "metadata": {},
   "outputs": [
    {
     "name": "stdout",
     "output_type": "stream",
     "text": [
      "[2, 4, 6, 8, 12, 14, 16, 18, 22, 24, 26, 28, 32, 34, 36, 38, 42, 44, 46, 48]\n",
      "[1, 3, 7, 9, 11, 13, 17, 19, 21, 23, 27, 29, 31, 33, 37, 39, 41, 43, 47, 49]\n"
     ]
    }
   ],
   "source": [
    "#Using Nested IF\n",
    "evens = []\n",
    "odds = []\n",
    "for i in range (1,50):\n",
    "    if i%2==0:\n",
    "        if (i%5 !=0):\n",
    "            evens.append(i)\n",
    "        \n",
    "    elif i%5 !=0:\n",
    "        odds.append(i)\n",
    "\n",
    "    \n",
    "print (even)\n",
    "print(odd)"
   ]
  },
  {
   "cell_type": "code",
   "execution_count": 57,
   "id": "31d7dd49",
   "metadata": {},
   "outputs": [
    {
     "name": "stdout",
     "output_type": "stream",
     "text": [
      "[2, 4, 6, 8, 12, 14, 16, 18, 22, 24, 26, 28, 32, 34, 36, 38, 42, 44, 46, 48]\n",
      "[1, 3, 7, 9, 11, 13, 17, 19, 21, 23, 27, 29, 31, 33, 37, 39, 41, 43, 47, 49]\n"
     ]
    }
   ],
   "source": [
    "#using non repetative method \n",
    "evens_n =[]\n",
    "odds_n =[]\n",
    "for i in range (50):\n",
    "    if i%5!=0:\n",
    "        if i%2==0:\n",
    "            evens_n.append(i)\n",
    "        elif i:\n",
    "            odds_n.append(i)\n",
    "print (evens_n)\n",
    "print(odds_n)"
   ]
  },
  {
   "cell_type": "code",
   "execution_count": 70,
   "id": "96f80fcb",
   "metadata": {},
   "outputs": [
    {
     "name": "stdout",
     "output_type": "stream",
     "text": [
      "1 2 3 4 5 6 7 8 "
     ]
    }
   ],
   "source": [
    "for num in range (1,10):\n",
    "    if num==9:\n",
    "        continue #skips the iteration and break # terminate the iteration\n",
    "    else:\n",
    "        print(num, end=\" \")\n",
    "\n",
    "        "
   ]
  },
  {
   "cell_type": "markdown",
   "id": "a8f36c56",
   "metadata": {},
   "source": [
    "# Iterating Over a list Using For Loop"
   ]
  },
  {
   "cell_type": "code",
   "execution_count": 76,
   "id": "6634e31c",
   "metadata": {},
   "outputs": [],
   "source": [
    "list1 = [\"Masab\", \"Saad\",\"Mini\",\"Zain\", \"Waqas\",\"Falana\"]"
   ]
  },
  {
   "cell_type": "code",
   "execution_count": 115,
   "id": "d102f880",
   "metadata": {},
   "outputs": [
    {
     "name": "stdout",
     "output_type": "stream",
     "text": [
      "Welcom Mr.Masab\n",
      "Welcom Mr.Saad\n",
      "Welcom Mr.Mini\n",
      "Welcom Mr.Zain\n",
      "Welcom Mr.Waqas\n",
      "Welcom Mr.Falana\n"
     ]
    }
   ],
   "source": [
    "for name in list1:\n",
    "    print (f'''Welcom Mr.{name}''')"
   ]
  },
  {
   "cell_type": "code",
   "execution_count": 118,
   "id": "5332f05e",
   "metadata": {},
   "outputs": [
    {
     "data": {
      "text/plain": [
       "True"
      ]
     },
     "execution_count": 118,
     "metadata": {},
     "output_type": "execute_result"
    }
   ],
   "source": [
    "\"Saad\" in list1"
   ]
  },
  {
   "cell_type": "code",
   "execution_count": 78,
   "id": "dcc29f36",
   "metadata": {},
   "outputs": [
    {
     "name": "stdout",
     "output_type": "stream",
     "text": [
      "Welcom Mr.Saad\n",
      "Welcom Mr.Mini\n"
     ]
    }
   ],
   "source": [
    "for name in list1[1:3]:\n",
    "    print (f'''Welcom Mr.{name}''')"
   ]
  },
  {
   "cell_type": "code",
   "execution_count": 131,
   "id": "918333ef",
   "metadata": {},
   "outputs": [
    {
     "name": "stdout",
     "output_type": "stream",
     "text": [
      "Enter Name of guestsmasab\n",
      "Enter Name of guestskhiz\n",
      "Enter Name of guestskhiz\n",
      "Enter Name of guestsali\n",
      "Enter Name of guestsok\n",
      "['khiz', 'ali', 'ok']\n"
     ]
    }
   ],
   "source": [
    "g_list=[]\n",
    "for g in range (5):\n",
    "    g= input(\"Enter Name of guests\").lower()\n",
    "    if g==\"masab\" or g in g_list:\n",
    "        continue\n",
    "    else:\n",
    "        g_list.append(g)\n",
    "\n",
    "print(g_list)"
   ]
  },
  {
   "cell_type": "code",
   "execution_count": null,
   "id": "ae2d68f2",
   "metadata": {},
   "outputs": [],
   "source": []
  },
  {
   "cell_type": "code",
   "execution_count": null,
   "id": "e66f09d9",
   "metadata": {},
   "outputs": [],
   "source": []
  },
  {
   "cell_type": "code",
   "execution_count": null,
   "id": "f1316d80",
   "metadata": {},
   "outputs": [],
   "source": []
  },
  {
   "cell_type": "code",
   "execution_count": null,
   "id": "34631541",
   "metadata": {},
   "outputs": [],
   "source": []
  },
  {
   "cell_type": "code",
   "execution_count": null,
   "id": "ad85a035",
   "metadata": {},
   "outputs": [],
   "source": []
  },
  {
   "cell_type": "code",
   "execution_count": null,
   "id": "a0660539",
   "metadata": {},
   "outputs": [],
   "source": []
  },
  {
   "cell_type": "code",
   "execution_count": null,
   "id": "8344ec7e",
   "metadata": {},
   "outputs": [],
   "source": []
  },
  {
   "cell_type": "code",
   "execution_count": null,
   "id": "3d00ab2c",
   "metadata": {},
   "outputs": [],
   "source": []
  },
  {
   "cell_type": "code",
   "execution_count": null,
   "id": "3863ee36",
   "metadata": {},
   "outputs": [],
   "source": []
  },
  {
   "cell_type": "code",
   "execution_count": null,
   "id": "286c7783",
   "metadata": {},
   "outputs": [],
   "source": []
  },
  {
   "cell_type": "code",
   "execution_count": null,
   "id": "ba94a9ea",
   "metadata": {},
   "outputs": [],
   "source": []
  },
  {
   "cell_type": "code",
   "execution_count": null,
   "id": "8037699c",
   "metadata": {},
   "outputs": [],
   "source": []
  },
  {
   "cell_type": "code",
   "execution_count": null,
   "id": "55e7b434",
   "metadata": {},
   "outputs": [],
   "source": []
  },
  {
   "cell_type": "code",
   "execution_count": null,
   "id": "51ed3752",
   "metadata": {},
   "outputs": [],
   "source": []
  },
  {
   "cell_type": "code",
   "execution_count": null,
   "id": "06a1658e",
   "metadata": {},
   "outputs": [],
   "source": []
  }
 ],
 "metadata": {
  "kernelspec": {
   "display_name": "Python 3 (ipykernel)",
   "language": "python",
   "name": "python3"
  },
  "language_info": {
   "codemirror_mode": {
    "name": "ipython",
    "version": 3
   },
   "file_extension": ".py",
   "mimetype": "text/x-python",
   "name": "python",
   "nbconvert_exporter": "python",
   "pygments_lexer": "ipython3",
   "version": "3.9.7"
  }
 },
 "nbformat": 4,
 "nbformat_minor": 5
}
